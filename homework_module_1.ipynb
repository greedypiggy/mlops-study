{
 "cells": [
  {
   "cell_type": "code",
   "execution_count": 1,
   "id": "46c10381",
   "metadata": {},
   "outputs": [],
   "source": [
    "import pandas as pd"
   ]
  },
  {
   "cell_type": "code",
   "execution_count": 2,
   "id": "561807ff",
   "metadata": {},
   "outputs": [
    {
     "data": {
      "text/html": [
       "<div>\n",
       "<style scoped>\n",
       "    .dataframe tbody tr th:only-of-type {\n",
       "        vertical-align: middle;\n",
       "    }\n",
       "\n",
       "    .dataframe tbody tr th {\n",
       "        vertical-align: top;\n",
       "    }\n",
       "\n",
       "    .dataframe thead th {\n",
       "        text-align: right;\n",
       "    }\n",
       "</style>\n",
       "<table border=\"1\" class=\"dataframe\">\n",
       "  <thead>\n",
       "    <tr style=\"text-align: right;\">\n",
       "      <th></th>\n",
       "      <th>dispatching_base_num</th>\n",
       "      <th>pickup_datetime</th>\n",
       "      <th>dropOff_datetime</th>\n",
       "      <th>PUlocationID</th>\n",
       "      <th>DOlocationID</th>\n",
       "      <th>SR_Flag</th>\n",
       "      <th>Affiliated_base_number</th>\n",
       "    </tr>\n",
       "  </thead>\n",
       "  <tbody>\n",
       "    <tr>\n",
       "      <th>0</th>\n",
       "      <td>B00009</td>\n",
       "      <td>2021-01-01 00:27:00</td>\n",
       "      <td>2021-01-01 00:44:00</td>\n",
       "      <td>NaN</td>\n",
       "      <td>NaN</td>\n",
       "      <td>None</td>\n",
       "      <td>B00009</td>\n",
       "    </tr>\n",
       "    <tr>\n",
       "      <th>1</th>\n",
       "      <td>B00009</td>\n",
       "      <td>2021-01-01 00:50:00</td>\n",
       "      <td>2021-01-01 01:07:00</td>\n",
       "      <td>NaN</td>\n",
       "      <td>NaN</td>\n",
       "      <td>None</td>\n",
       "      <td>B00009</td>\n",
       "    </tr>\n",
       "    <tr>\n",
       "      <th>2</th>\n",
       "      <td>B00013</td>\n",
       "      <td>2021-01-01 00:01:00</td>\n",
       "      <td>2021-01-01 01:51:00</td>\n",
       "      <td>NaN</td>\n",
       "      <td>NaN</td>\n",
       "      <td>None</td>\n",
       "      <td>B00013</td>\n",
       "    </tr>\n",
       "    <tr>\n",
       "      <th>3</th>\n",
       "      <td>B00037</td>\n",
       "      <td>2021-01-01 00:13:09</td>\n",
       "      <td>2021-01-01 00:21:26</td>\n",
       "      <td>NaN</td>\n",
       "      <td>72.0</td>\n",
       "      <td>None</td>\n",
       "      <td>B00037</td>\n",
       "    </tr>\n",
       "    <tr>\n",
       "      <th>4</th>\n",
       "      <td>B00037</td>\n",
       "      <td>2021-01-01 00:38:31</td>\n",
       "      <td>2021-01-01 00:53:44</td>\n",
       "      <td>NaN</td>\n",
       "      <td>61.0</td>\n",
       "      <td>None</td>\n",
       "      <td>B00037</td>\n",
       "    </tr>\n",
       "  </tbody>\n",
       "</table>\n",
       "</div>"
      ],
      "text/plain": [
       "  dispatching_base_num     pickup_datetime    dropOff_datetime  PUlocationID  \\\n",
       "0               B00009 2021-01-01 00:27:00 2021-01-01 00:44:00           NaN   \n",
       "1               B00009 2021-01-01 00:50:00 2021-01-01 01:07:00           NaN   \n",
       "2               B00013 2021-01-01 00:01:00 2021-01-01 01:51:00           NaN   \n",
       "3               B00037 2021-01-01 00:13:09 2021-01-01 00:21:26           NaN   \n",
       "4               B00037 2021-01-01 00:38:31 2021-01-01 00:53:44           NaN   \n",
       "\n",
       "   DOlocationID SR_Flag Affiliated_base_number  \n",
       "0           NaN    None                 B00009  \n",
       "1           NaN    None                 B00009  \n",
       "2           NaN    None                 B00013  \n",
       "3          72.0    None                 B00037  \n",
       "4          61.0    None                 B00037  "
      ]
     },
     "execution_count": 2,
     "metadata": {},
     "output_type": "execute_result"
    }
   ],
   "source": [
    "df_jan = pd.read_parquet('data/fhv_tripdata_2021-01.parquet')\n",
    "df_feb = pd.read_parquet('data/fhv_tripdata_2021-02.parquet')\n",
    "df_jan.head()"
   ]
  },
  {
   "cell_type": "markdown",
   "id": "1d75b2a5",
   "metadata": {},
   "source": [
    "# Q1. Downloading the data"
   ]
  },
  {
   "cell_type": "code",
   "execution_count": 3,
   "id": "d062ee0d",
   "metadata": {},
   "outputs": [
    {
     "name": "stdout",
     "output_type": "stream",
     "text": [
      "There are 1154112 records in the January 2021 data.\n"
     ]
    }
   ],
   "source": [
    "print(f'There are {len(df_jan)} records in the January 2021 data.')"
   ]
  },
  {
   "cell_type": "markdown",
   "id": "eaca9b34",
   "metadata": {},
   "source": [
    "# Q2. Computing duration"
   ]
  },
  {
   "cell_type": "code",
   "execution_count": 4,
   "id": "4463640f",
   "metadata": {},
   "outputs": [],
   "source": [
    "df_jan['duration'] = (df_jan['dropOff_datetime'] - \\\n",
    "                      df_jan['pickup_datetime']).dt.total_seconds() / 60.0\n",
    "df_feb['duration'] = (df_feb['dropOff_datetime'] - \\\n",
    "                      df_feb['pickup_datetime']).dt.total_seconds() / 60.0"
   ]
  },
  {
   "cell_type": "code",
   "execution_count": 5,
   "id": "52722e74",
   "metadata": {},
   "outputs": [
    {
     "name": "stdout",
     "output_type": "stream",
     "text": [
      "The average trip duration for January is 19.17.\n"
     ]
    }
   ],
   "source": [
    "mean_duration = df_jan['duration'].mean()\n",
    "print(f'The average trip duration for January is {mean_duration:.2f}.')"
   ]
  },
  {
   "cell_type": "markdown",
   "id": "919f6133",
   "metadata": {},
   "source": [
    "# Data preparation"
   ]
  },
  {
   "cell_type": "code",
   "execution_count": 6,
   "id": "ae19ea23",
   "metadata": {},
   "outputs": [],
   "source": [
    "df_jan_normal = df_jan[(df_jan['duration'] <= 60) & (df_jan['duration'] >= 1)]\n",
    "df_feb_normal = df_feb[(df_feb['duration'] <= 60) & (df_feb['duration'] >= 1)]"
   ]
  },
  {
   "cell_type": "code",
   "execution_count": 7,
   "id": "c810855a",
   "metadata": {},
   "outputs": [
    {
     "name": "stdout",
     "output_type": "stream",
     "text": [
      "There are 44286 records dropped in January and 47579 records dropped in Feburary.\n"
     ]
    }
   ],
   "source": [
    "drop_jan = len(df_jan) - len(df_jan_normal)\n",
    "drop_feb = len(df_feb) - len(df_feb_normal)\n",
    "\n",
    "print(f'There are {drop_jan} records dropped in January and {drop_feb} '\n",
    "      f'records dropped in Feburary.')"
   ]
  },
  {
   "cell_type": "markdown",
   "id": "01d32f47",
   "metadata": {},
   "source": [
    "# Q3. Missing values"
   ]
  },
  {
   "cell_type": "code",
   "execution_count": 8,
   "id": "84d26615",
   "metadata": {},
   "outputs": [
    {
     "name": "stderr",
     "output_type": "stream",
     "text": [
      "/home/jgo/.local/lib/python3.8/site-packages/pandas/core/series.py:4517: SettingWithCopyWarning: \n",
      "A value is trying to be set on a copy of a slice from a DataFrame\n",
      "\n",
      "See the caveats in the documentation: https://pandas.pydata.org/pandas-docs/stable/user_guide/indexing.html#returning-a-view-versus-a-copy\n",
      "  return super().fillna(\n"
     ]
    }
   ],
   "source": [
    "df_jan_normal['PUlocationID'].fillna(-1, inplace=True)\n",
    "df_jan_normal['DOlocationID'].fillna(-1, inplace=True)\n",
    "df_feb_normal['PUlocationID'].fillna(-1, inplace=True)\n",
    "df_feb_normal['DOlocationID'].fillna(-1, inplace=True)"
   ]
  },
  {
   "cell_type": "code",
   "execution_count": 9,
   "id": "1e6e885a",
   "metadata": {},
   "outputs": [
    {
     "name": "stdout",
     "output_type": "stream",
     "text": [
      "The fraction of missing values for pickup location ID in January is 0.84.\n"
     ]
    }
   ],
   "source": [
    "fraction_missing = (df_jan_normal['PUlocationID'] == -1).mean()\n",
    "print(f'The fraction of missing values for pickup location ID in January'\n",
    "      f' is {fraction_missing:.2f}.')"
   ]
  },
  {
   "cell_type": "markdown",
   "id": "ca2fd8d5",
   "metadata": {},
   "source": [
    "# Q4. One-hot encoding"
   ]
  },
  {
   "cell_type": "code",
   "execution_count": 10,
   "id": "f49646e4",
   "metadata": {},
   "outputs": [],
   "source": [
    "from sklearn.feature_extraction import DictVectorizer"
   ]
  },
  {
   "cell_type": "code",
   "execution_count": 11,
   "id": "94496fde",
   "metadata": {},
   "outputs": [
    {
     "name": "stderr",
     "output_type": "stream",
     "text": [
      "/home/jgo/.local/lib/python3.8/site-packages/pandas/core/indexing.py:1745: SettingWithCopyWarning: \n",
      "A value is trying to be set on a copy of a slice from a DataFrame.\n",
      "Try using .loc[row_indexer,col_indexer] = value instead\n",
      "\n",
      "See the caveats in the documentation: https://pandas.pydata.org/pandas-docs/stable/user_guide/indexing.html#returning-a-view-versus-a-copy\n",
      "  isetter(ilocs[0], value)\n"
     ]
    }
   ],
   "source": [
    "df_jan_normal.loc[:, 'PUlocationID'] = df_jan_normal['PUlocationID'].astype(str)\n",
    "df_jan_normal.loc[:, 'DOlocationID'] = df_jan_normal['DOlocationID'].astype(str)\n",
    "df_feb_normal.loc[:, 'PUlocationID'] = df_feb_normal['PUlocationID'].astype(str)\n",
    "df_feb_normal.loc[:, 'DOlocationID'] = df_feb_normal['DOlocationID'].astype(str)"
   ]
  },
  {
   "cell_type": "code",
   "execution_count": 12,
   "id": "01fcdc2e",
   "metadata": {},
   "outputs": [],
   "source": [
    "jan_records = df_jan_normal[['PUlocationID', 'DOlocationID']]\\\n",
    "                    .to_dict(orient='records')"
   ]
  },
  {
   "cell_type": "code",
   "execution_count": 13,
   "id": "017ba0b6",
   "metadata": {},
   "outputs": [],
   "source": [
    "v = DictVectorizer()\n",
    "X_train = v.fit_transform(jan_records)"
   ]
  },
  {
   "cell_type": "code",
   "execution_count": 14,
   "id": "aba6fd0a",
   "metadata": {},
   "outputs": [
    {
     "name": "stdout",
     "output_type": "stream",
     "text": [
      "The dimensionality of the matrix is 525.\n"
     ]
    }
   ],
   "source": [
    "n_cols = X_train.shape[1]\n",
    "print(f'The dimensionality of the matrix is {n_cols}.')"
   ]
  },
  {
   "cell_type": "markdown",
   "id": "c1b28606",
   "metadata": {},
   "source": [
    "# Q5. Training a model"
   ]
  },
  {
   "cell_type": "code",
   "execution_count": 15,
   "id": "3665730b",
   "metadata": {},
   "outputs": [],
   "source": [
    "from sklearn.linear_model import LinearRegression\n",
    "from sklearn.metrics import mean_squared_error"
   ]
  },
  {
   "cell_type": "code",
   "execution_count": 16,
   "id": "15648d1d",
   "metadata": {},
   "outputs": [],
   "source": [
    "y_train = df_jan_normal['duration']\n",
    "\n",
    "reg = LinearRegression().fit(X_train, y_train)"
   ]
  },
  {
   "cell_type": "code",
   "execution_count": 17,
   "id": "b9b9a339",
   "metadata": {},
   "outputs": [],
   "source": [
    "y_pred = reg.predict(X_train)"
   ]
  },
  {
   "cell_type": "code",
   "execution_count": 18,
   "id": "1c9324b4-1af6-4dd3-8f95-8663aa2d6a17",
   "metadata": {},
   "outputs": [
    {
     "name": "stdout",
     "output_type": "stream",
     "text": [
      "The RMSE on train is 10.53.\n"
     ]
    }
   ],
   "source": [
    "rmse = mean_squared_error(y_train, y_pred, squared=False)\n",
    "print(f'The RMSE on train is {rmse:.2f}.')"
   ]
  },
  {
   "cell_type": "markdown",
   "id": "949b9fff-262b-4c63-9922-9e8d65a976da",
   "metadata": {},
   "source": [
    "# Q6. Evaluating the model"
   ]
  },
  {
   "cell_type": "code",
   "execution_count": 19,
   "id": "331db3cf-e8b1-474b-bb43-054c8ebb654d",
   "metadata": {},
   "outputs": [],
   "source": [
    "feb_records = df_feb_normal[['PUlocationID', 'DOlocationID']]\\\n",
    "                    .to_dict(orient='records')"
   ]
  },
  {
   "cell_type": "code",
   "execution_count": 20,
   "id": "9760e2e7-315c-48d7-b253-569144999fbb",
   "metadata": {},
   "outputs": [],
   "source": [
    "X_val = v.transform(feb_records)"
   ]
  },
  {
   "cell_type": "code",
   "execution_count": 21,
   "id": "258fd6fa-76ba-4d2a-95ec-abed79925804",
   "metadata": {},
   "outputs": [
    {
     "name": "stdout",
     "output_type": "stream",
     "text": [
      "The RMSE on validation is 11.01\n"
     ]
    }
   ],
   "source": [
    "y_val = df_feb_normal['duration']\n",
    "y_pred_val = reg.predict(X_val)\n",
    "\n",
    "rmse_val = mean_squared_error(y_val, y_pred_val, squared=False)\n",
    "print(f'The RMSE on validation is {rmse_val:.2f}')"
   ]
  }
 ],
 "metadata": {
  "kernelspec": {
   "display_name": "Python 3",
   "language": "python",
   "name": "python3"
  },
  "language_info": {
   "codemirror_mode": {
    "name": "ipython",
    "version": 3
   },
   "file_extension": ".py",
   "mimetype": "text/x-python",
   "name": "python",
   "nbconvert_exporter": "python",
   "pygments_lexer": "ipython3",
   "version": "3.8.10"
  }
 },
 "nbformat": 4,
 "nbformat_minor": 5
}
